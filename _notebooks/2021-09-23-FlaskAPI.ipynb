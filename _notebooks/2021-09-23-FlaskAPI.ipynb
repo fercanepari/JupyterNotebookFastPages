{
 "cells": [
  {
   "cell_type": "markdown",
   "id": "8792aa7f",
   "metadata": {},
   "source": [
    "# \"Flask API\"\n",
    "> \"Flask API hosted on PythonAnyWhere\"\n",
    "\n",
    "- toc: true\n",
    "- branch: master\n",
    "- badges: true\n",
    "- comments: true\n",
    "- author: Fernando Canepari\n",
    "- categories: [fastpages, flask, API, hosting, PythonAnyWhere]"
   ]
  },
  {
   "cell_type": "markdown",
   "id": "f7fd3b12",
   "metadata": {},
   "source": [
    "[Flask API](https://fercanepari.pythonanywhere.com/notes)"
   ]
  },
  {
   "cell_type": "raw",
   "id": "67e78918",
   "metadata": {},
   "source": [
    "Terminal calls examples:\n",
    "    \n",
    "curl https://fercanepari.pythonanywhere.com/notes/note1\n",
    "curl https://fercanepari.pythonanywhere.com/notes/all\n",
    "curl https://fercanepari.pythonanywhere.com/notes/nota4 -d \"title=Mi nieva nota de mañana\" -d \"uploadDate=20210923\" -X PUT\n",
    "curl https://fercanepari.pythonanywhere.com/notes/nota4 -X DELETE\n",
    "curl https://fercanepari.pythonanywhere.com/notes -d \"title=Mi nieva nota de maniana\" -d \"uploadDate=20210923\" -X POST\n",
    "curl https://fercanepari.pythonanywhere.com/notes "
   ]
  },
  {
   "cell_type": "code",
   "execution_count": null,
   "id": "1bf5f93d",
   "metadata": {},
   "outputs": [],
   "source": []
  }
 ],
 "metadata": {
  "kernelspec": {
   "display_name": "Python 3",
   "language": "python",
   "name": "python3"
  },
  "language_info": {
   "codemirror_mode": {
    "name": "ipython",
    "version": 3
   },
   "file_extension": ".py",
   "mimetype": "text/x-python",
   "name": "python",
   "nbconvert_exporter": "python",
   "pygments_lexer": "ipython3",
   "version": "3.8.5"
  }
 },
 "nbformat": 4,
 "nbformat_minor": 5
}
