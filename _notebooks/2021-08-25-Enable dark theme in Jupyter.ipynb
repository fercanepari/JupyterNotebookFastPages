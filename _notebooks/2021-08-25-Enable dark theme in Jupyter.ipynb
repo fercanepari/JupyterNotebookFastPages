{
 "cells": [
  {
   "cell_type": "markdown",
   "id": "56f1d90a",
   "metadata": {},
   "source": [
    "# \"Enable dark theme in Jupyter notebook\"\n",
    "> \"Enable dark theme in Jupyter notebook\"\n",
    "\n",
    "- toc: true\n",
    "- branch: master\n",
    "- badges: true\n",
    "- comments: true\n",
    "- author: Fernando Canepari\n",
    "- categories: [fastpages, jupyter, cosmetic, UI]"
   ]
  },
  {
   "cell_type": "raw",
   "id": "77d19a8b",
   "metadata": {},
   "source": [
    "Install jupyterthemes with pip:\n",
    "\n",
    "pip install jupyterthemes\n",
    "\n",
    "\n",
    "Then Choose the themes from the following and set them using the following command, Once you have installed successfully, Many of us thought we need to start the jupyter server again, just refresh the page.\n",
    "\n",
    "Set the theme with the following command:\n",
    "\n",
    "jt -t <theme-name>\n",
    "\n",
    "    \n",
    "Available themes:\n",
    "\n",
    "onedork\n",
    "grade3\n",
    "oceans16\n",
    "chesterish\n",
    "monokai\n",
    "solarizedl\n",
    "solarizedd\n",
    "Screens of the available themes are also available in the Github repository.\n",
    "    \n",
    "For those who want to restore the original theme, you can do it as follows:\n",
    "\n",
    "jt -r\n",
    "    \n",
    "    \n",
    "You need to restart Jupyter the first time you do it and later refresh is enough to enable the new theme.    \n",
    "    \n",
    "    "
   ]
  },
  {
   "cell_type": "code",
   "execution_count": null,
   "id": "80eb1710",
   "metadata": {},
   "outputs": [],
   "source": []
  }
 ],
 "metadata": {
  "kernelspec": {
   "display_name": "Python 3",
   "language": "python",
   "name": "python3"
  },
  "language_info": {
   "codemirror_mode": {
    "name": "ipython",
    "version": 3
   },
   "file_extension": ".py",
   "mimetype": "text/x-python",
   "name": "python",
   "nbconvert_exporter": "python",
   "pygments_lexer": "ipython3",
   "version": "3.8.5"
  }
 },
 "nbformat": 4,
 "nbformat_minor": 5
}
