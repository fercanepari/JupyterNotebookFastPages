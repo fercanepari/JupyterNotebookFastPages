{
 "cells": [
  {
   "cell_type": "markdown",
   "id": "cc8c2094",
   "metadata": {},
   "source": [
    "# \"Slicing DataFrames\"\n",
    "> \"Slicing examples\"\n",
    "\n",
    "- toc: true\n",
    "- branch: master\n",
    "- badges: true\n",
    "- comments: true\n",
    "- author: Fernando Canepari\n",
    "- categories: [fastpages, jupyter]"
   ]
  },
  {
   "cell_type": "code",
   "execution_count": 8,
   "id": "52410c76",
   "metadata": {},
   "outputs": [],
   "source": [
    "import os\n",
    "import pandas as pd\n",
    "\n",
    "def symbol_to_path(symbol, base_dir=\"data\"):\n",
    "    \"\"\"Return CSV file path given ticker symbol.\"\"\"\n",
    "    return os.path.join(base_dir, \"{}.csv\".format(str(symbol)))\n",
    "\n",
    "\n"
   ]
  },
  {
   "cell_type": "markdown",
   "id": "9249f94b",
   "metadata": {},
   "source": [
    "\n",
    "Get data from csv file, set index for column 'Date' \n",
    "get columns: 'Date' and 'Adj Close'"
   ]
  },
  {
   "cell_type": "code",
   "execution_count": 9,
   "id": "ddbee333",
   "metadata": {},
   "outputs": [],
   "source": [
    "def get_data(symbols, dates):\n",
    "    \"\"\"Read stock data (adjusted close) for given symbols from CSV files.\"\"\"\n",
    "    df = pd.DataFrame(index=dates)\n",
    "    if 'SPY' not in symbols:  # add SPY for reference, if absent\n",
    "        symbols.insert(0, 'SPY')\n",
    "\n",
    "    for symbol in symbols:\n",
    "        # TODO: Read and join data for each symbol\n",
    "        file = symbol_to_path(symbol)\n",
    "        df_temp = pd.read_csv(file, index_col='Date',\n",
    "                             parse_dates=True, usecols=['Date', 'Adj Close'],\n",
    "                             na_values=['nan'])                                 \n",
    "                             \n",
    "        df_temp = df_temp.rename(columns={'Adj Close':symbol})\n",
    "        df = df.join(df_temp)\n",
    "        df = df.dropna()\n",
    "    return df\n",
    "\n",
    "\n"
   ]
  },
  {
   "cell_type": "markdown",
   "id": "c25c1a6f",
   "metadata": {},
   "source": [
    "Define dates for range\n",
    "Define symbols to use\n",
    "\n",
    "Slice different combinations of both"
   ]
  },
  {
   "cell_type": "code",
   "execution_count": 13,
   "id": "21c25339",
   "metadata": {},
   "outputs": [
    {
     "name": "stdout",
     "output_type": "stream",
     "text": [
      "                  SPY        GOOG        IBM         GLD\n",
      "2010-01-04  90.790062  312.204773  91.506264  109.800003\n",
      "2010-01-05  91.030411  310.829926  90.400902  109.699997\n",
      "2010-01-06  91.094490  302.994293  89.813629  111.510002\n",
      "2010-01-07  91.479050  295.940735  89.502716  110.820000\n",
      "2010-01-08  91.783432  299.885956  90.400902  111.370003\n",
      "2010-01-11  91.911636  299.432648  89.454376  112.849998\n",
      "2010-01-12  91.054436  294.137512  90.165970  110.489998\n",
      "2010-01-13  91.823486  292.448822  89.972527  111.540001\n",
      "2010-01-14  92.071815  293.823669  91.409561  112.029999\n",
      "2010-01-15  91.038422  288.917053  91.043396  110.860001\n",
      "2010-01-19  92.175987  292.712830  92.673851  111.519997\n",
      "2010-01-20  91.238701  289.121307  89.986359  108.940002\n",
      "2010-01-21  89.484276  290.401489  89.122757  107.370003\n",
      "2010-01-22  87.489502  273.978058  86.704697  107.169998\n",
      "2010-01-25  87.938095  268.991760  87.133049  107.480003\n",
      "2010-01-26  87.569580  270.197235  86.877396  107.559998\n",
      "2010-01-27  87.986176  270.037842  87.278122  106.529999\n",
      "2010-01-28  86.976791  266.147400  85.495674  106.480003\n",
      "2010-01-29  86.031456  263.980530  84.556068  105.959999\n"
     ]
    }
   ],
   "source": [
    "def test_run():\n",
    "    start_date='2010-01-01'\n",
    "    end_date='2010-12-31'\n",
    "    dates = pd.date_range(start_date, end_date)\n",
    "    \n",
    "    #Leer mas 'stocks'\n",
    "    symbols = ['GOOG','IBM','GLD']\n",
    "    \n",
    "    df = get_data(symbols, dates)\n",
    "    \n",
    "    #Slice by row range using DataFrame[] selector\n",
    "    print (df['2010-01-01':'2010-01-31'])\n",
    "        \n",
    "if __name__ == \"__main__\":\n",
    "    test_run()"
   ]
  },
  {
   "cell_type": "markdown",
   "id": "3b8371bf",
   "metadata": {},
   "source": []
  },
  {
   "cell_type": "code",
   "execution_count": 15,
   "id": "7c06a28b",
   "metadata": {},
   "outputs": [
    {
     "name": "stdout",
     "output_type": "stream",
     "text": [
      "2010-01-04    312.204773\n",
      "2010-01-05    310.829926\n",
      "2010-01-06    302.994293\n",
      "2010-01-07    295.940735\n",
      "2010-01-08    299.885956\n",
      "                 ...    \n",
      "2010-12-27    300.065277\n",
      "2010-12-28    298.341736\n",
      "2010-12-29    299.377869\n",
      "2010-12-30    298.311859\n",
      "2010-12-31    295.875977\n",
      "Name: GOOG, Length: 252, dtype: float64\n",
      "                   IBM         GLD\n",
      "2010-01-04   91.506264  109.800003\n",
      "2010-01-05   90.400902  109.699997\n",
      "2010-01-06   89.813629  111.510002\n",
      "2010-01-07   89.502716  110.820000\n",
      "2010-01-08   90.400902  111.370003\n",
      "...                ...         ...\n",
      "2010-12-27  102.332802  135.020004\n",
      "2010-12-28  102.593338  137.220001\n",
      "2010-12-29  103.163635  137.710007\n",
      "2010-12-30  103.269241  137.029999\n",
      "2010-12-31  103.332611  138.720001\n",
      "\n",
      "[252 rows x 2 columns]\n"
     ]
    }
   ],
   "source": [
    "def test_run():\n",
    "    start_date='2010-01-01'\n",
    "    end_date='2010-12-31'\n",
    "    dates = pd.date_range(start_date, end_date)\n",
    "    \n",
    "    #Leer mas 'stocks'\n",
    "    symbols = ['GOOG','IBM','GLD']\n",
    "    \n",
    "    df = get_data(symbols, dates)\n",
    "    #Slice by Column/s\n",
    "    print (df['GOOG'])\n",
    "    print (df[['IBM','GLD']])\n",
    "    \n",
    "if __name__ == \"__main__\":\n",
    "    test_run()    "
   ]
  },
  {
   "cell_type": "markdown",
   "id": "557bd34b",
   "metadata": {},
   "source": [
    "Slice by Columns and rows"
   ]
  },
  {
   "cell_type": "code",
   "execution_count": 18,
   "id": "f716ca12",
   "metadata": {},
   "outputs": [
    {
     "name": "stdout",
     "output_type": "stream",
     "text": [
      "                  SPY        IBM\n",
      "2010-01-04  90.790062  91.506264\n",
      "2010-01-05  91.030411  90.400902\n",
      "2010-01-06  91.094490  89.813629\n",
      "2010-01-07  91.479050  89.502716\n",
      "2010-01-08  91.783432  90.400902\n",
      "2010-01-11  91.911636  89.454376\n",
      "2010-01-12  91.054436  90.165970\n",
      "2010-01-13  91.823486  89.972527\n",
      "2010-01-14  92.071815  91.409561\n",
      "2010-01-15  91.038422  91.043396\n",
      "2010-01-19  92.175987  92.673851\n",
      "2010-01-20  91.238701  89.986359\n",
      "2010-01-21  89.484276  89.122757\n",
      "2010-01-22  87.489502  86.704697\n",
      "2010-01-25  87.938095  87.133049\n",
      "2010-01-26  87.569580  86.877396\n",
      "2010-01-27  87.986176  87.278122\n",
      "2010-01-28  86.976791  85.495674\n",
      "2010-01-29  86.031456  84.556068\n",
      "                  SPY        GOOG        IBM         GLD\n",
      "2010-01-04  90.790062  312.204773  91.506264  109.800003\n",
      "2010-01-05  91.030411  310.829926  90.400902  109.699997\n",
      "2010-01-06  91.094490  302.994293  89.813629  111.510002\n",
      "2010-01-07  91.479050  295.940735  89.502716  110.820000\n",
      "2010-01-08  91.783432  299.885956  90.400902  111.370003\n"
     ]
    }
   ],
   "source": [
    "def test_run():\n",
    "    start_date='2010-01-01'\n",
    "    end_date='2010-12-31'\n",
    "    dates = pd.date_range(start_date, end_date)\n",
    "    \n",
    "    #Leer mas 'stocks'\n",
    "    symbols = ['GOOG','IBM','GLD']\n",
    "    \n",
    "    df = get_data(symbols, dates)\n",
    "    \n",
    "    #Slice by row and column\n",
    "    print (df.loc['2010-01-01':'2010-01-31', ['SPY','IBM']])\n",
    "    \n",
    "    \n",
    "    #print(df.head())\n",
    "    \n",
    "if __name__ == \"__main__\":\n",
    "    test_run()"
   ]
  },
  {
   "cell_type": "code",
   "execution_count": null,
   "id": "cb6373de",
   "metadata": {},
   "outputs": [],
   "source": []
  },
  {
   "cell_type": "code",
   "execution_count": null,
   "id": "0fa05bdd",
   "metadata": {},
   "outputs": [],
   "source": []
  }
 ],
 "metadata": {
  "kernelspec": {
   "display_name": "Python 3",
   "language": "python",
   "name": "python3"
  },
  "language_info": {
   "codemirror_mode": {
    "name": "ipython",
    "version": 3
   },
   "file_extension": ".py",
   "mimetype": "text/x-python",
   "name": "python",
   "nbconvert_exporter": "python",
   "pygments_lexer": "ipython3",
   "version": "3.8.5"
  }
 },
 "nbformat": 4,
 "nbformat_minor": 5
}
