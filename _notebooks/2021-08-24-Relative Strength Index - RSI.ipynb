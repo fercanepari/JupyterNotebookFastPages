{
 "cells": [
  {
   "cell_type": "markdown",
   "id": "67e63041",
   "metadata": {},
   "source": [
    "# \"Relative Strength Index - RSI\"\n",
    "> \"Relative Strength Index - RSI\"\n",
    "\n",
    "- toc: true\n",
    "- branch: master\n",
    "- badges: true\n",
    "- comments: true\n",
    "- author: Fernando Canepari\n",
    "- categories: [fastpages, jupyter]"
   ]
  },
  {
   "cell_type": "code",
   "execution_count": 73,
   "id": "0b84d3e9",
   "metadata": {},
   "outputs": [],
   "source": [
    "#Resumen"
   ]
  },
  {
   "cell_type": "code",
   "execution_count": 74,
   "id": "3206328a",
   "metadata": {},
   "outputs": [],
   "source": [
    "import pandas as pd \n",
    "import numpy as np\n",
    "import matplotlib.pyplot as plt\n",
    "import yfinance as yf \n",
    "\n",
    "pd.options.mode.chained_assignment = None\n"
   ]
  },
  {
   "cell_type": "code",
   "execution_count": 75,
   "id": "fd36f828",
   "metadata": {},
   "outputs": [
    {
     "data": {
      "text/plain": [
       "['MMM',\n",
       " 'ABT',\n",
       " 'ABBV',\n",
       " 'ABMD',\n",
       " 'ACN',\n",
       " 'ATVI',\n",
       " 'ADBE',\n",
       " 'AMD',\n",
       " 'AAP',\n",
       " 'AES',\n",
       " 'AFL',\n",
       " 'A',\n",
       " 'APD',\n",
       " 'AKAM']"
      ]
     },
     "execution_count": 75,
     "metadata": {},
     "output_type": "execute_result"
    }
   ],
   "source": [
    "tickers = pd.read_html('https://en.wikipedia.org/wiki/List_of_S%26P_500_companies')[0]\n",
    "tickers = tickers.Symbol.to_list()\n",
    "\n",
    "tickers = [i.replace('.','-') for i in tickers]\n",
    "\n",
    "#For quick test\n",
    "tickers = ['MMM',\n",
    " 'ABT',\n",
    " 'ABBV',\n",
    " 'ABMD',\n",
    " 'ACN',\n",
    " 'ATVI',\n",
    " 'ADBE',\n",
    " 'AMD',\n",
    " 'AAP',\n",
    " 'AES',\n",
    " 'AFL',\n",
    " 'A',\n",
    " 'APD',\n",
    " 'AKAM']\n",
    "\n",
    "\n",
    "tickers"
   ]
  },
  {
   "cell_type": "code",
   "execution_count": 76,
   "id": "4fe2a51e",
   "metadata": {},
   "outputs": [],
   "source": [
    "def RSIcalc(asset):\n",
    "    df = yf.download(asset, start='2011-01-01')\n",
    "    df['MA200'] = df['Adj Close'].rolling(window=200).mean()\n",
    "    df['price change'] = df['Adj Close'].pct_change()\n",
    "    df['Upmove'] = df['price change'].apply(lambda x: x if x > 0 else 0)\n",
    "    df['Downmove'] = df['price change'].apply(lambda x: abs(x) if x < 0 else 0)\n",
    "    df['avg Up'] = df['Upmove'].ewm(span=19).mean()\n",
    "    df['avg Down'] = df['Downmove'].ewm(span=19).mean()\n",
    "    \n",
    "    df = df.dropna()\n",
    "    df['RS'] = df['avg Up']/df['avg Down']\n",
    "    df['RSI'] = df['RS'].apply(lambda x: 100-(100/(x+1)))\n",
    "    df.loc[(df['Adj Close'] > df['MA200']) & (df['RSI'] < 30), 'Buy'] = 'Yes'\n",
    "    df.loc[(df['Adj Close'] < df['MA200']) | (df['RSI'] > 30), 'Buy'] = 'No'\n",
    "    \n",
    "    return df\n",
    "    "
   ]
  },
  {
   "cell_type": "code",
   "execution_count": 77,
   "id": "81b0bb15",
   "metadata": {},
   "outputs": [],
   "source": [
    "def getSignals(df):\n",
    "    Buying_dates = []\n",
    "    Selling_dates = []\n",
    "    \n",
    "    for i in range(len(df) - 11):\n",
    "        if \"Yes\" in df['Buy'].iloc[i]:\n",
    "            Buying_dates.append(df.iloc[i+1].name)\n",
    "            for j in range(1, 11):\n",
    "                if df['RSI'].iloc[i + j] > 40:\n",
    "                    Selling_dates.append(df.iloc[i+j+1].name)\n",
    "                    break\n",
    "                elif j == 10:\n",
    "                    Selling_dates.append(df.iloc[i+j+1].name)\n",
    "    \n",
    "    return Buying_dates, Selling_dates\n"
   ]
  },
  {
   "cell_type": "markdown",
   "id": "ff49d7d5",
   "metadata": {},
   "source": [
    "Test the code and the strategy with only the first asset"
   ]
  },
  {
   "cell_type": "code",
   "execution_count": 78,
   "id": "1700dd81",
   "metadata": {},
   "outputs": [
    {
     "name": "stdout",
     "output_type": "stream",
     "text": [
      "[*********************100%***********************]  1 of 1 completed\n"
     ]
    }
   ],
   "source": [
    "frame = RSIcalc(tickers[0])\n",
    "buy, sell = getSignals(frame)"
   ]
  },
  {
   "cell_type": "code",
   "execution_count": 79,
   "id": "d3efe039",
   "metadata": {},
   "outputs": [
    {
     "data": {
      "text/plain": [
       "[<matplotlib.lines.Line2D at 0x14b966ce130>]"
      ]
     },
     "execution_count": 79,
     "metadata": {},
     "output_type": "execute_result"
    },
    {
     "data": {
      "image/png": "[encoded data removed]",
      "text/plain": [
       "<Figure size 864x360 with 1 Axes>"
      ]
     },
     "metadata": {
      "needs_background": "light"
     },
     "output_type": "display_data"
    }
   ],
   "source": [
    "plt.figure(figsize=(12,5))\n",
    "plt.scatter(frame.loc[buy].index, frame.loc[buy]['Adj Close'], marker='^', c='g')\n",
    "plt.plot(frame['Adj Close'], alpha=0.7)\n"
   ]
  },
  {
   "cell_type": "code",
   "execution_count": 80,
   "id": "04b19f88",
   "metadata": {},
   "outputs": [],
   "source": [
    "\n",
    "Profits = (frame.loc[sell].Open.values - frame.loc[buy].Open.values)/frame.loc[buy].Open.values"
   ]
  },
  {
   "cell_type": "code",
   "execution_count": 81,
   "id": "d65086d8",
   "metadata": {},
   "outputs": [
    {
     "data": {
      "text/plain": [
       "array([ 0.01841858,  0.01323802, -0.0115183 , -0.01105814,  0.00212315,\n",
       "        0.01287556,  0.03632401,  0.02847867,  0.01033357,  0.01558087,\n",
       "        0.01012236, -0.00346098,  0.00108178, -0.00407378,  0.02345979,\n",
       "        0.01052883,  0.02759942,  0.00556546,  0.00556546,  0.01286469,\n",
       "        0.0062834 ,  0.01170129,  0.01861865,  0.01306246,  0.0130085 ,\n",
       "        0.01320242, -0.00076654,  0.00355307, -0.01841872,  0.01366927,\n",
       "        0.02033747,  0.01195283,  0.01595001,  0.00852711,  0.02154845,\n",
       "        0.00861573,  0.01892706, -0.0052846 ,  0.01409035,  0.01120925])"
      ]
     },
     "execution_count": 81,
     "metadata": {},
     "output_type": "execute_result"
    }
   ],
   "source": [
    "Profits"
   ]
  },
  {
   "cell_type": "code",
   "execution_count": 82,
   "id": "50d3be59",
   "metadata": {},
   "outputs": [],
   "source": [
    "wins = [i for i in Profits if i > 0]"
   ]
  },
  {
   "cell_type": "markdown",
   "id": "8255cd86",
   "metadata": {},
   "source": [
    "wins over total of placements "
   ]
  },
  {
   "cell_type": "code",
   "execution_count": 83,
   "id": "602a23b9",
   "metadata": {},
   "outputs": [
    {
     "data": {
      "text/plain": [
       "0.825"
      ]
     },
     "execution_count": 83,
     "metadata": {},
     "output_type": "execute_result"
    }
   ],
   "source": [
    "len(wins)/len(Profits)"
   ]
  },
  {
   "cell_type": "code",
   "execution_count": 84,
   "id": "5d2e8f8c",
   "metadata": {},
   "outputs": [
    {
     "data": {
      "text/plain": [
       "40"
      ]
     },
     "execution_count": 84,
     "metadata": {},
     "output_type": "execute_result"
    }
   ],
   "source": [
    "\n",
    "len(Profits)"
   ]
  },
  {
   "cell_type": "markdown",
   "id": "fc7beef1",
   "metadata": {},
   "source": [
    "Only 40 trades un 10 years.... but next, \n",
    "we are going to perform the previous steps for all the assets"
   ]
  },
  {
   "cell_type": "code",
   "execution_count": 100,
   "id": "a68530e5",
   "metadata": {},
   "outputs": [
    {
     "name": "stdout",
     "output_type": "stream",
     "text": [
      "[*********************100%***********************]  1 of 1 completed\n",
      "[*********************100%***********************]  1 of 1 completed\n",
      "[*********************100%***********************]  1 of 1 completed\n",
      "[*********************100%***********************]  1 of 1 completed\n",
      "[*********************100%***********************]  1 of 1 completed\n",
      "[*********************100%***********************]  1 of 1 completed\n",
      "[*********************100%***********************]  1 of 1 completed\n",
      "[*********************100%***********************]  1 of 1 completed\n",
      "[*********************100%***********************]  1 of 1 completed\n",
      "[*********************100%***********************]  1 of 1 completed\n",
      "[*********************100%***********************]  1 of 1 completed\n",
      "[*********************100%***********************]  1 of 1 completed\n",
      "[*********************100%***********************]  1 of 1 completed\n",
      "[*********************100%***********************]  1 of 1 completed\n"
     ]
    }
   ],
   "source": [
    "matrixsignals = []\n",
    "matrixprofits = []\n",
    "\n",
    "for i in range(len(tickers)):\n",
    "    frame = RSIcalc(tickers[i])\n",
    "    buy, sell = getSignals(frame)\n",
    "    Profits = (frame.loc[sell].Open.values - frame.loc[buy].Open.values)/frame.loc[buy].Open.values\n",
    "    matrixsignals.append(buy)\n",
    "    matrixprofits.append(Profits)\n",
    "    \n",
    "    \n",
    "    \n",
    "matrixsignalsbyAsset = dict(zip(tickers, matrixsignals))       \n",
    "    \n",
    "    \n",
    "    "
   ]
  },
  {
   "cell_type": "code",
   "execution_count": 101,
   "id": "dc91e112",
   "metadata": {},
   "outputs": [
    {
     "data": {
      "text/plain": [
       "{'MMM': [Timestamp('2012-03-07 00:00:00'),\n",
       "  Timestamp('2012-04-11 00:00:00'),\n",
       "  Timestamp('2012-05-15 00:00:00'),\n",
       "  Timestamp('2012-05-16 00:00:00'),\n",
       "  Timestamp('2012-05-18 00:00:00'),\n",
       "  Timestamp('2012-05-21 00:00:00'),\n",
       "  Timestamp('2012-06-05 00:00:00'),\n",
       "  Timestamp('2012-06-06 00:00:00'),\n",
       "  Timestamp('2012-10-24 00:00:00'),\n",
       "  Timestamp('2012-10-25 00:00:00'),\n",
       "  Timestamp('2013-08-22 00:00:00'),\n",
       "  Timestamp('2014-01-27 00:00:00'),\n",
       "  Timestamp('2014-01-28 00:00:00'),\n",
       "  Timestamp('2014-01-29 00:00:00'),\n",
       "  Timestamp('2014-01-31 00:00:00'),\n",
       "  Timestamp('2014-02-03 00:00:00'),\n",
       "  Timestamp('2014-02-04 00:00:00'),\n",
       "  Timestamp('2014-08-01 00:00:00'),\n",
       "  Timestamp('2014-08-04 00:00:00'),\n",
       "  Timestamp('2014-08-06 00:00:00'),\n",
       "  Timestamp('2014-08-07 00:00:00'),\n",
       "  Timestamp('2014-08-08 00:00:00'),\n",
       "  Timestamp('2014-10-02 00:00:00'),\n",
       "  Timestamp('2014-10-03 00:00:00'),\n",
       "  Timestamp('2015-04-30 00:00:00'),\n",
       "  Timestamp('2015-05-01 00:00:00'),\n",
       "  Timestamp('2016-10-12 00:00:00'),\n",
       "  Timestamp('2016-10-13 00:00:00'),\n",
       "  Timestamp('2016-10-24 00:00:00'),\n",
       "  Timestamp('2017-07-26 00:00:00'),\n",
       "  Timestamp('2017-07-27 00:00:00'),\n",
       "  Timestamp('2017-07-28 00:00:00'),\n",
       "  Timestamp('2017-07-31 00:00:00'),\n",
       "  Timestamp('2018-02-06 00:00:00'),\n",
       "  Timestamp('2018-02-09 00:00:00'),\n",
       "  Timestamp('2018-02-12 00:00:00'),\n",
       "  Timestamp('2021-01-12 00:00:00'),\n",
       "  Timestamp('2021-06-17 00:00:00'),\n",
       "  Timestamp('2021-06-18 00:00:00'),\n",
       "  Timestamp('2021-06-21 00:00:00')],\n",
       " 'ABT': [Timestamp('2012-11-08 00:00:00'),\n",
       "  Timestamp('2012-11-09 00:00:00'),\n",
       "  Timestamp('2012-11-16 00:00:00'),\n",
       "  Timestamp('2012-11-19 00:00:00'),\n",
       "  Timestamp('2012-11-20 00:00:00'),\n",
       "  Timestamp('2013-08-16 00:00:00'),\n",
       "  Timestamp('2013-08-19 00:00:00'),\n",
       "  Timestamp('2013-08-20 00:00:00'),\n",
       "  Timestamp('2013-08-21 00:00:00'),\n",
       "  Timestamp('2013-08-22 00:00:00'),\n",
       "  Timestamp('2013-08-23 00:00:00'),\n",
       "  Timestamp('2013-08-27 00:00:00'),\n",
       "  Timestamp('2014-01-27 00:00:00'),\n",
       "  Timestamp('2014-01-28 00:00:00'),\n",
       "  Timestamp('2014-01-29 00:00:00'),\n",
       "  Timestamp('2014-04-09 00:00:00'),\n",
       "  Timestamp('2014-04-10 00:00:00'),\n",
       "  Timestamp('2014-04-11 00:00:00'),\n",
       "  Timestamp('2014-04-14 00:00:00'),\n",
       "  Timestamp('2014-10-02 00:00:00'),\n",
       "  Timestamp('2014-10-03 00:00:00'),\n",
       "  Timestamp('2015-08-21 00:00:00'),\n",
       "  Timestamp('2015-08-24 00:00:00'),\n",
       "  Timestamp('2016-08-26 00:00:00'),\n",
       "  Timestamp('2016-09-01 00:00:00'),\n",
       "  Timestamp('2016-09-06 00:00:00'),\n",
       "  Timestamp('2016-09-08 00:00:00'),\n",
       "  Timestamp('2016-09-09 00:00:00'),\n",
       "  Timestamp('2016-09-12 00:00:00'),\n",
       "  Timestamp('2017-04-06 00:00:00'),\n",
       "  Timestamp('2017-04-07 00:00:00'),\n",
       "  Timestamp('2017-04-11 00:00:00'),\n",
       "  Timestamp('2017-04-17 00:00:00'),\n",
       "  Timestamp('2018-02-09 00:00:00'),\n",
       "  Timestamp('2018-12-26 00:00:00'),\n",
       "  Timestamp('2019-04-18 00:00:00'),\n",
       "  Timestamp('2019-04-22 00:00:00'),\n",
       "  Timestamp('2020-02-25 00:00:00')],\n",
       " 'ABBV': [Timestamp('2014-01-27 00:00:00'),\n",
       "  Timestamp('2014-01-28 00:00:00'),\n",
       "  Timestamp('2015-08-24 00:00:00'),\n",
       "  Timestamp('2016-08-31 00:00:00'),\n",
       "  Timestamp('2016-09-01 00:00:00'),\n",
       "  Timestamp('2016-09-02 00:00:00'),\n",
       "  Timestamp('2016-10-17 00:00:00'),\n",
       "  Timestamp('2016-10-18 00:00:00'),\n",
       "  Timestamp('2018-03-23 00:00:00'),\n",
       "  Timestamp('2018-03-26 00:00:00'),\n",
       "  Timestamp('2018-03-27 00:00:00'),\n",
       "  Timestamp('2018-03-28 00:00:00'),\n",
       "  Timestamp('2018-03-29 00:00:00'),\n",
       "  Timestamp('2018-04-02 00:00:00'),\n",
       "  Timestamp('2018-04-03 00:00:00'),\n",
       "  Timestamp('2018-04-05 00:00:00'),\n",
       "  Timestamp('2018-04-06 00:00:00'),\n",
       "  Timestamp('2020-01-27 00:00:00'),\n",
       "  Timestamp('2020-01-29 00:00:00'),\n",
       "  Timestamp('2020-01-30 00:00:00'),\n",
       "  Timestamp('2020-01-31 00:00:00'),\n",
       "  Timestamp('2020-02-03 00:00:00'),\n",
       "  Timestamp('2020-03-13 00:00:00'),\n",
       "  Timestamp('2020-08-07 00:00:00')],\n",
       " 'ABMD': [Timestamp('2012-04-11 00:00:00'),\n",
       "  Timestamp('2012-05-31 00:00:00'),\n",
       "  Timestamp('2012-06-01 00:00:00'),\n",
       "  Timestamp('2012-06-04 00:00:00'),\n",
       "  Timestamp('2013-08-08 00:00:00'),\n",
       "  Timestamp('2013-09-23 00:00:00'),\n",
       "  Timestamp('2014-03-17 00:00:00'),\n",
       "  Timestamp('2014-03-18 00:00:00'),\n",
       "  Timestamp('2014-03-19 00:00:00'),\n",
       "  Timestamp('2016-10-27 00:00:00'),\n",
       "  Timestamp('2016-10-31 00:00:00'),\n",
       "  Timestamp('2016-11-01 00:00:00'),\n",
       "  Timestamp('2016-11-02 00:00:00'),\n",
       "  Timestamp('2018-07-30 00:00:00'),\n",
       "  Timestamp('2018-07-31 00:00:00'),\n",
       "  Timestamp('2018-08-01 00:00:00'),\n",
       "  Timestamp('2018-10-12 00:00:00'),\n",
       "  Timestamp('2020-09-08 00:00:00'),\n",
       "  Timestamp('2020-09-09 00:00:00'),\n",
       "  Timestamp('2021-03-05 00:00:00'),\n",
       "  Timestamp('2021-03-09 00:00:00')],\n",
       " 'ACN': [Timestamp('2012-05-08 00:00:00'),\n",
       "  Timestamp('2012-05-09 00:00:00'),\n",
       "  Timestamp('2012-05-10 00:00:00'),\n",
       "  Timestamp('2012-05-11 00:00:00'),\n",
       "  Timestamp('2012-05-14 00:00:00'),\n",
       "  Timestamp('2012-05-15 00:00:00'),\n",
       "  Timestamp('2012-05-16 00:00:00'),\n",
       "  Timestamp('2012-05-17 00:00:00'),\n",
       "  Timestamp('2012-05-18 00:00:00'),\n",
       "  Timestamp('2012-05-21 00:00:00'),\n",
       "  Timestamp('2012-05-29 00:00:00'),\n",
       "  Timestamp('2012-12-31 00:00:00'),\n",
       "  Timestamp('2014-02-06 00:00:00'),\n",
       "  Timestamp('2014-07-15 00:00:00'),\n",
       "  Timestamp('2014-07-16 00:00:00'),\n",
       "  Timestamp('2014-12-15 00:00:00'),\n",
       "  Timestamp('2014-12-16 00:00:00'),\n",
       "  Timestamp('2015-01-29 00:00:00'),\n",
       "  Timestamp('2015-08-24 00:00:00'),\n",
       "  Timestamp('2015-08-25 00:00:00'),\n",
       "  Timestamp('2016-06-27 00:00:00'),\n",
       "  Timestamp('2016-06-28 00:00:00'),\n",
       "  Timestamp('2016-06-29 00:00:00'),\n",
       "  Timestamp('2016-09-12 00:00:00'),\n",
       "  Timestamp('2018-02-06 00:00:00'),\n",
       "  Timestamp('2018-03-23 00:00:00'),\n",
       "  Timestamp('2018-03-26 00:00:00'),\n",
       "  Timestamp('2018-10-11 00:00:00'),\n",
       "  Timestamp('2019-05-14 00:00:00'),\n",
       "  Timestamp('2019-08-06 00:00:00'),\n",
       "  Timestamp('2019-10-03 00:00:00'),\n",
       "  Timestamp('2020-02-26 00:00:00'),\n",
       "  Timestamp('2020-02-27 00:00:00'),\n",
       "  Timestamp('2020-09-25 00:00:00'),\n",
       "  Timestamp('2020-09-28 00:00:00')],\n",
       " 'ATVI': [Timestamp('2011-11-16 00:00:00'),\n",
       "  Timestamp('2011-11-18 00:00:00'),\n",
       "  Timestamp('2011-11-21 00:00:00'),\n",
       "  Timestamp('2011-11-22 00:00:00'),\n",
       "  Timestamp('2011-11-23 00:00:00'),\n",
       "  Timestamp('2011-11-25 00:00:00'),\n",
       "  Timestamp('2011-11-28 00:00:00'),\n",
       "  Timestamp('2013-06-24 00:00:00'),\n",
       "  Timestamp('2013-06-25 00:00:00'),\n",
       "  Timestamp('2014-01-21 00:00:00'),\n",
       "  Timestamp('2014-01-22 00:00:00'),\n",
       "  Timestamp('2014-01-23 00:00:00'),\n",
       "  Timestamp('2014-01-24 00:00:00'),\n",
       "  Timestamp('2014-01-27 00:00:00'),\n",
       "  Timestamp('2014-01-28 00:00:00'),\n",
       "  Timestamp('2014-01-29 00:00:00'),\n",
       "  Timestamp('2014-09-16 00:00:00'),\n",
       "  Timestamp('2014-09-17 00:00:00'),\n",
       "  Timestamp('2014-09-18 00:00:00'),\n",
       "  Timestamp('2014-09-19 00:00:00'),\n",
       "  Timestamp('2014-09-23 00:00:00'),\n",
       "  Timestamp('2014-09-24 00:00:00'),\n",
       "  Timestamp('2014-09-25 00:00:00'),\n",
       "  Timestamp('2014-09-26 00:00:00'),\n",
       "  Timestamp('2014-09-29 00:00:00'),\n",
       "  Timestamp('2014-09-30 00:00:00'),\n",
       "  Timestamp('2014-10-01 00:00:00'),\n",
       "  Timestamp('2014-10-02 00:00:00'),\n",
       "  Timestamp('2014-10-07 00:00:00'),\n",
       "  Timestamp('2016-01-11 00:00:00'),\n",
       "  Timestamp('2016-02-05 00:00:00'),\n",
       "  Timestamp('2016-11-08 00:00:00'),\n",
       "  Timestamp('2016-11-09 00:00:00'),\n",
       "  Timestamp('2016-11-10 00:00:00'),\n",
       "  Timestamp('2016-11-11 00:00:00'),\n",
       "  Timestamp('2016-11-14 00:00:00'),\n",
       "  Timestamp('2017-12-05 00:00:00'),\n",
       "  Timestamp('2018-07-31 00:00:00'),\n",
       "  Timestamp('2018-08-06 00:00:00'),\n",
       "  Timestamp('2018-08-07 00:00:00'),\n",
       "  Timestamp('2018-08-08 00:00:00'),\n",
       "  Timestamp('2018-08-09 00:00:00'),\n",
       "  Timestamp('2018-10-11 00:00:00'),\n",
       "  Timestamp('2018-10-12 00:00:00'),\n",
       "  Timestamp('2020-09-09 00:00:00'),\n",
       "  Timestamp('2021-05-05 00:00:00')],\n",
       " 'ADBE': [Timestamp('2012-05-21 00:00:00'),\n",
       "  Timestamp('2012-06-04 00:00:00'),\n",
       "  Timestamp('2013-08-16 00:00:00'),\n",
       "  Timestamp('2013-08-19 00:00:00'),\n",
       "  Timestamp('2013-08-20 00:00:00'),\n",
       "  Timestamp('2013-08-21 00:00:00'),\n",
       "  Timestamp('2013-08-22 00:00:00'),\n",
       "  Timestamp('2014-04-07 00:00:00'),\n",
       "  Timestamp('2014-04-08 00:00:00'),\n",
       "  Timestamp('2014-08-04 00:00:00'),\n",
       "  Timestamp('2014-08-05 00:00:00'),\n",
       "  Timestamp('2014-08-07 00:00:00'),\n",
       "  Timestamp('2014-08-08 00:00:00'),\n",
       "  Timestamp('2014-09-18 00:00:00'),\n",
       "  Timestamp('2014-09-19 00:00:00'),\n",
       "  Timestamp('2014-09-22 00:00:00'),\n",
       "  Timestamp('2014-09-23 00:00:00'),\n",
       "  Timestamp('2016-01-29 00:00:00'),\n",
       "  Timestamp('2016-11-15 00:00:00'),\n",
       "  Timestamp('2016-12-02 00:00:00'),\n",
       "  Timestamp('2016-12-05 00:00:00'),\n",
       "  Timestamp('2017-09-26 00:00:00'),\n",
       "  Timestamp('2017-09-27 00:00:00'),\n",
       "  Timestamp('2018-10-11 00:00:00'),\n",
       "  Timestamp('2018-10-12 00:00:00'),\n",
       "  Timestamp('2019-08-06 00:00:00'),\n",
       "  Timestamp('2020-02-28 00:00:00'),\n",
       "  Timestamp('2020-03-10 00:00:00'),\n",
       "  Timestamp('2020-11-02 00:00:00'),\n",
       "  Timestamp('2020-11-03 00:00:00')],\n",
       " 'AMD': [Timestamp('2012-05-10 00:00:00'),\n",
       "  Timestamp('2012-05-11 00:00:00'),\n",
       "  Timestamp('2012-05-14 00:00:00'),\n",
       "  Timestamp('2012-05-15 00:00:00'),\n",
       "  Timestamp('2012-05-16 00:00:00'),\n",
       "  Timestamp('2013-08-28 00:00:00'),\n",
       "  Timestamp('2013-08-30 00:00:00'),\n",
       "  Timestamp('2013-09-03 00:00:00'),\n",
       "  Timestamp('2013-09-04 00:00:00'),\n",
       "  Timestamp('2013-09-05 00:00:00'),\n",
       "  Timestamp('2013-10-22 00:00:00'),\n",
       "  Timestamp('2014-09-15 00:00:00'),\n",
       "  Timestamp('2016-09-12 00:00:00'),\n",
       "  Timestamp('2016-09-13 00:00:00'),\n",
       "  Timestamp('2016-09-14 00:00:00'),\n",
       "  Timestamp('2017-01-18 00:00:00'),\n",
       "  Timestamp('2017-01-20 00:00:00'),\n",
       "  Timestamp('2017-01-23 00:00:00'),\n",
       "  Timestamp('2017-04-17 00:00:00'),\n",
       "  Timestamp('2017-05-03 00:00:00'),\n",
       "  Timestamp('2017-05-04 00:00:00'),\n",
       "  Timestamp('2017-05-05 00:00:00'),\n",
       "  Timestamp('2017-05-08 00:00:00'),\n",
       "  Timestamp('2017-05-09 00:00:00'),\n",
       "  Timestamp('2017-05-10 00:00:00'),\n",
       "  Timestamp('2017-08-11 00:00:00'),\n",
       "  Timestamp('2018-10-26 00:00:00'),\n",
       "  Timestamp('2018-10-29 00:00:00'),\n",
       "  Timestamp('2018-10-31 00:00:00'),\n",
       "  Timestamp('2019-08-06 00:00:00'),\n",
       "  Timestamp('2020-02-28 00:00:00')],\n",
       " 'AAP': [Timestamp('2012-05-15 00:00:00'),\n",
       "  Timestamp('2012-05-16 00:00:00'),\n",
       "  Timestamp('2012-05-17 00:00:00'),\n",
       "  Timestamp('2014-04-08 00:00:00'),\n",
       "  Timestamp('2014-07-23 00:00:00'),\n",
       "  Timestamp('2014-07-24 00:00:00'),\n",
       "  Timestamp('2014-08-01 00:00:00'),\n",
       "  Timestamp('2014-08-04 00:00:00'),\n",
       "  Timestamp('2014-09-24 00:00:00'),\n",
       "  Timestamp('2015-01-16 00:00:00'),\n",
       "  Timestamp('2015-03-11 00:00:00'),\n",
       "  Timestamp('2016-08-18 00:00:00'),\n",
       "  Timestamp('2016-08-19 00:00:00'),\n",
       "  Timestamp('2017-01-30 00:00:00'),\n",
       "  Timestamp('2017-02-01 00:00:00'),\n",
       "  Timestamp('2017-02-02 00:00:00'),\n",
       "  Timestamp('2017-02-07 00:00:00'),\n",
       "  Timestamp('2017-02-08 00:00:00'),\n",
       "  Timestamp('2018-12-18 00:00:00'),\n",
       "  Timestamp('2018-12-19 00:00:00'),\n",
       "  Timestamp('2018-12-20 00:00:00'),\n",
       "  Timestamp('2018-12-21 00:00:00'),\n",
       "  Timestamp('2018-12-24 00:00:00'),\n",
       "  Timestamp('2018-12-26 00:00:00'),\n",
       "  Timestamp('2019-05-02 00:00:00'),\n",
       "  Timestamp('2020-10-29 00:00:00'),\n",
       "  Timestamp('2020-10-30 00:00:00'),\n",
       "  Timestamp('2020-11-23 00:00:00'),\n",
       "  Timestamp('2021-01-28 00:00:00')],\n",
       " 'AES': [Timestamp('2012-04-11 00:00:00'),\n",
       "  Timestamp('2012-04-12 00:00:00'),\n",
       "  Timestamp('2012-04-19 00:00:00'),\n",
       "  Timestamp('2012-04-20 00:00:00'),\n",
       "  Timestamp('2012-04-24 00:00:00'),\n",
       "  Timestamp('2013-05-29 00:00:00'),\n",
       "  Timestamp('2013-05-30 00:00:00'),\n",
       "  Timestamp('2013-05-31 00:00:00'),\n",
       "  Timestamp('2013-06-03 00:00:00'),\n",
       "  Timestamp('2013-06-04 00:00:00'),\n",
       "  Timestamp('2013-06-05 00:00:00'),\n",
       "  Timestamp('2013-06-06 00:00:00'),\n",
       "  Timestamp('2013-06-20 00:00:00'),\n",
       "  Timestamp('2014-01-28 00:00:00'),\n",
       "  Timestamp('2014-08-07 00:00:00'),\n",
       "  Timestamp('2016-10-05 00:00:00'),\n",
       "  Timestamp('2016-10-06 00:00:00'),\n",
       "  Timestamp('2016-10-07 00:00:00'),\n",
       "  Timestamp('2016-10-10 00:00:00'),\n",
       "  Timestamp('2016-10-11 00:00:00'),\n",
       "  Timestamp('2016-10-12 00:00:00'),\n",
       "  Timestamp('2018-09-05 00:00:00'),\n",
       "  Timestamp('2018-12-26 00:00:00'),\n",
       "  Timestamp('2019-04-30 00:00:00'),\n",
       "  Timestamp('2019-05-01 00:00:00'),\n",
       "  Timestamp('2019-05-02 00:00:00'),\n",
       "  Timestamp('2019-05-06 00:00:00'),\n",
       "  Timestamp('2019-05-07 00:00:00'),\n",
       "  Timestamp('2019-05-08 00:00:00'),\n",
       "  Timestamp('2019-05-09 00:00:00'),\n",
       "  Timestamp('2019-05-10 00:00:00'),\n",
       "  Timestamp('2019-05-13 00:00:00'),\n",
       "  Timestamp('2019-05-14 00:00:00'),\n",
       "  Timestamp('2019-05-15 00:00:00'),\n",
       "  Timestamp('2020-02-26 00:00:00'),\n",
       "  Timestamp('2020-02-27 00:00:00'),\n",
       "  Timestamp('2020-02-28 00:00:00'),\n",
       "  Timestamp('2021-05-06 00:00:00'),\n",
       "  Timestamp('2021-05-07 00:00:00'),\n",
       "  Timestamp('2021-05-10 00:00:00'),\n",
       "  Timestamp('2021-05-11 00:00:00'),\n",
       "  Timestamp('2021-05-12 00:00:00'),\n",
       "  Timestamp('2021-05-13 00:00:00'),\n",
       "  Timestamp('2021-05-14 00:00:00')],\n",
       " 'AFL': [Timestamp('2012-03-07 00:00:00'),\n",
       "  Timestamp('2012-03-08 00:00:00'),\n",
       "  Timestamp('2012-03-09 00:00:00'),\n",
       "  Timestamp('2012-03-13 00:00:00'),\n",
       "  Timestamp('2012-04-10 00:00:00'),\n",
       "  Timestamp('2013-02-13 00:00:00'),\n",
       "  Timestamp('2013-02-14 00:00:00'),\n",
       "  Timestamp('2013-02-15 00:00:00'),\n",
       "  Timestamp('2014-01-27 00:00:00'),\n",
       "  Timestamp('2014-01-28 00:00:00'),\n",
       "  Timestamp('2014-02-04 00:00:00'),\n",
       "  Timestamp('2018-02-09 00:00:00'),\n",
       "  Timestamp('2018-06-22 00:00:00'),\n",
       "  Timestamp('2018-06-25 00:00:00'),\n",
       "  Timestamp('2018-06-26 00:00:00'),\n",
       "  Timestamp('2018-06-27 00:00:00'),\n",
       "  Timestamp('2018-06-28 00:00:00'),\n",
       "  Timestamp('2019-07-30 00:00:00'),\n",
       "  Timestamp('2019-07-31 00:00:00'),\n",
       "  Timestamp('2019-08-01 00:00:00'),\n",
       "  Timestamp('2019-08-02 00:00:00'),\n",
       "  Timestamp('2019-08-05 00:00:00'),\n",
       "  Timestamp('2019-08-06 00:00:00'),\n",
       "  Timestamp('2019-12-04 00:00:00'),\n",
       "  Timestamp('2021-06-18 00:00:00'),\n",
       "  Timestamp('2021-06-21 00:00:00'),\n",
       "  Timestamp('2021-06-23 00:00:00'),\n",
       "  Timestamp('2021-06-24 00:00:00')],\n",
       " 'A': [Timestamp('2012-04-25 00:00:00'),\n",
       "  Timestamp('2012-05-15 00:00:00'),\n",
       "  Timestamp('2013-02-19 00:00:00'),\n",
       "  Timestamp('2013-02-26 00:00:00'),\n",
       "  Timestamp('2013-02-27 00:00:00'),\n",
       "  Timestamp('2016-06-28 00:00:00'),\n",
       "  Timestamp('2016-09-12 00:00:00'),\n",
       "  Timestamp('2016-10-26 00:00:00'),\n",
       "  Timestamp('2016-10-27 00:00:00'),\n",
       "  Timestamp('2016-10-28 00:00:00'),\n",
       "  Timestamp('2016-10-31 00:00:00'),\n",
       "  Timestamp('2016-11-03 00:00:00'),\n",
       "  Timestamp('2018-02-06 00:00:00'),\n",
       "  Timestamp('2018-02-08 00:00:00'),\n",
       "  Timestamp('2018-02-09 00:00:00'),\n",
       "  Timestamp('2018-03-26 00:00:00'),\n",
       "  Timestamp('2019-04-18 00:00:00'),\n",
       "  Timestamp('2019-04-23 00:00:00'),\n",
       "  Timestamp('2019-04-24 00:00:00'),\n",
       "  Timestamp('2019-05-14 00:00:00'),\n",
       "  Timestamp('2020-02-03 00:00:00'),\n",
       "  Timestamp('2020-02-04 00:00:00'),\n",
       "  Timestamp('2020-02-26 00:00:00'),\n",
       "  Timestamp('2020-02-27 00:00:00'),\n",
       "  Timestamp('2020-02-28 00:00:00'),\n",
       "  Timestamp('2020-03-02 00:00:00'),\n",
       "  Timestamp('2021-03-05 00:00:00')],\n",
       " 'APD': [Timestamp('2013-02-26 00:00:00'),\n",
       "  Timestamp('2013-02-27 00:00:00'),\n",
       "  Timestamp('2014-01-27 00:00:00'),\n",
       "  Timestamp('2014-01-28 00:00:00'),\n",
       "  Timestamp('2014-02-04 00:00:00'),\n",
       "  Timestamp('2014-02-05 00:00:00'),\n",
       "  Timestamp('2014-09-15 00:00:00'),\n",
       "  Timestamp('2015-05-01 00:00:00'),\n",
       "  Timestamp('2016-09-14 00:00:00'),\n",
       "  Timestamp('2016-09-15 00:00:00'),\n",
       "  Timestamp('2016-09-16 00:00:00'),\n",
       "  Timestamp('2016-09-19 00:00:00'),\n",
       "  Timestamp('2016-09-20 00:00:00'),\n",
       "  Timestamp('2017-02-01 00:00:00'),\n",
       "  Timestamp('2017-02-02 00:00:00'),\n",
       "  Timestamp('2018-02-06 00:00:00'),\n",
       "  Timestamp('2018-02-09 00:00:00'),\n",
       "  Timestamp('2018-03-26 00:00:00'),\n",
       "  Timestamp('2020-02-26 00:00:00'),\n",
       "  Timestamp('2020-02-27 00:00:00'),\n",
       "  Timestamp('2020-10-29 00:00:00'),\n",
       "  Timestamp('2020-11-02 00:00:00')],\n",
       " 'AKAM': [Timestamp('2012-05-01 00:00:00'),\n",
       "  Timestamp('2012-05-11 00:00:00'),\n",
       "  Timestamp('2012-05-14 00:00:00'),\n",
       "  Timestamp('2012-05-15 00:00:00'),\n",
       "  Timestamp('2012-05-16 00:00:00'),\n",
       "  Timestamp('2013-06-21 00:00:00'),\n",
       "  Timestamp('2013-06-24 00:00:00'),\n",
       "  Timestamp('2013-10-25 00:00:00'),\n",
       "  Timestamp('2013-10-28 00:00:00'),\n",
       "  Timestamp('2013-10-29 00:00:00'),\n",
       "  Timestamp('2013-10-31 00:00:00'),\n",
       "  Timestamp('2013-11-01 00:00:00'),\n",
       "  Timestamp('2013-11-04 00:00:00'),\n",
       "  Timestamp('2013-11-08 00:00:00'),\n",
       "  Timestamp('2014-04-07 00:00:00'),\n",
       "  Timestamp('2014-04-08 00:00:00'),\n",
       "  Timestamp('2014-04-11 00:00:00'),\n",
       "  Timestamp('2014-04-14 00:00:00'),\n",
       "  Timestamp('2014-04-29 00:00:00'),\n",
       "  Timestamp('2015-06-10 00:00:00'),\n",
       "  Timestamp('2015-06-30 00:00:00'),\n",
       "  Timestamp('2015-07-01 00:00:00'),\n",
       "  Timestamp('2015-07-09 00:00:00'),\n",
       "  Timestamp('2015-08-21 00:00:00'),\n",
       "  Timestamp('2017-02-09 00:00:00'),\n",
       "  Timestamp('2017-02-15 00:00:00'),\n",
       "  Timestamp('2017-02-21 00:00:00'),\n",
       "  Timestamp('2017-03-31 00:00:00'),\n",
       "  Timestamp('2018-06-28 00:00:00'),\n",
       "  Timestamp('2018-06-29 00:00:00'),\n",
       "  Timestamp('2018-07-02 00:00:00'),\n",
       "  Timestamp('2018-08-02 00:00:00'),\n",
       "  Timestamp('2019-11-11 00:00:00'),\n",
       "  Timestamp('2020-02-28 00:00:00'),\n",
       "  Timestamp('2021-08-05 00:00:00')]}"
      ]
     },
     "execution_count": 101,
     "metadata": {},
     "output_type": "execute_result"
    }
   ],
   "source": [
    "matrixsignalsbyAsset\n"
   ]
  },
  {
   "cell_type": "code",
   "execution_count": 88,
   "id": "3adec718",
   "metadata": {},
   "outputs": [],
   "source": [
    "allprofit = []\n",
    "\n",
    "for i in matrixprofits:\n",
    "    for e in i:\n",
    "        allprofit.append(e)\n",
    "        "
   ]
  },
  {
   "cell_type": "code",
   "execution_count": 89,
   "id": "9f5c8aa0",
   "metadata": {},
   "outputs": [],
   "source": [
    "wins = [i for i in allprofit if i > 0]"
   ]
  },
  {
   "cell_type": "code",
   "execution_count": 90,
   "id": "581a060b",
   "metadata": {},
   "outputs": [
    {
     "data": {
      "text/plain": [
       "0.7333333333333333"
      ]
     },
     "execution_count": 90,
     "metadata": {},
     "output_type": "execute_result"
    }
   ],
   "source": [
    "len(wins)/len(allprofit)"
   ]
  },
  {
   "cell_type": "code",
   "execution_count": 91,
   "id": "c34e3f45",
   "metadata": {},
   "outputs": [
    {
     "data": {
      "image/png": "[encoded data removed]",
      "text/plain": [
       "<Figure size 432x288 with 1 Axes>"
      ]
     },
     "metadata": {
      "needs_background": "light"
     },
     "output_type": "display_data"
    }
   ],
   "source": [
    "plt.hist(allprofit, bins=100)\n",
    "plt.show()"
   ]
  },
  {
   "cell_type": "code",
   "execution_count": 92,
   "id": "a82ec93f",
   "metadata": {},
   "outputs": [
    {
     "name": "stdout",
     "output_type": "stream",
     "text": [
      "2021-01-12 00:00:00\n",
      "2021-06-17 00:00:00\n",
      "2021-06-18 00:00:00\n",
      "2021-06-21 00:00:00\n",
      "2021-03-05 00:00:00\n",
      "2021-03-09 00:00:00\n",
      "2021-05-05 00:00:00\n",
      "2021-01-28 00:00:00\n",
      "2021-05-06 00:00:00\n",
      "2021-05-07 00:00:00\n",
      "2021-05-10 00:00:00\n",
      "2021-05-11 00:00:00\n",
      "2021-05-12 00:00:00\n",
      "2021-05-13 00:00:00\n",
      "2021-05-14 00:00:00\n",
      "2021-06-18 00:00:00\n",
      "2021-06-21 00:00:00\n",
      "2021-06-23 00:00:00\n",
      "2021-06-24 00:00:00\n",
      "2021-03-05 00:00:00\n",
      "2021-08-05 00:00:00\n"
     ]
    }
   ],
   "source": [
    "for i in matrixsignals:\n",
    "    for e in i:\n",
    "        if e.year == 2021:\n",
    "            print(e)"
   ]
  },
  {
   "cell_type": "markdown",
   "id": "5e469d45",
   "metadata": {},
   "source": [
    "Next steps: \n",
    "\n",
    "- Check previous days looking for buy signals, generate, date and asset to buy.\n",
    "- Place orders in trading portals (e.g. etoro and test the results in \"virtual\" mode\n",
    "\n"
   ]
  }
 ],
 "metadata": {
  "kernelspec": {
   "display_name": "Python 3",
   "language": "python",
   "name": "python3"
  },
  "language_info": {
   "codemirror_mode": {
    "name": "ipython",
    "version": 3
   },
   "file_extension": ".py",
   "mimetype": "text/x-python",
   "name": "python",
   "nbconvert_exporter": "python",
   "pygments_lexer": "ipython3",
   "version": "3.8.5"
  }
 },
 "nbformat": 4,
 "nbformat_minor": 5
}
