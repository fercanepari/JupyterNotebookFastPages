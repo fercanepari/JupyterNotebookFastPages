{
 "cells": [
  {
   "cell_type": "markdown",
   "id": "88b6ef7d",
   "metadata": {},
   "source": [
    "# \"Daily Returns\"\n",
    "> \"Calculate daily and cumulative returns\"\n",
    "\n",
    "- toc: true\n",
    "- branch: master\n",
    "- badges: true\n",
    "- comments: true\n",
    "- author: Fernando Canepari\n",
    "- categories: [fastpages, jupyter, streamlit, hosting]"
   ]
  },
  {
   "cell_type": "markdown",
   "id": "cce46ee0",
   "metadata": {},
   "source": [
    "[Finance Dashboard](https://share.streamlit.io/fercanepari/jupyternotebookfastpages/StreamLit/dashboard.py)"
   ]
  },
  {
   "cell_type": "markdown",
   "id": "eb3214e4",
   "metadata": {},
   "source": [
    "[Asset Recomendations](https://share.streamlit.io/fercanepari/jupyternotebookfastpages/StreamLit/assetsRecomendations.py)"
   ]
  }
 ],
 "metadata": {
  "kernelspec": {
   "display_name": "Python 3",
   "language": "python",
   "name": "python3"
  },
  "language_info": {
   "codemirror_mode": {
    "name": "ipython",
    "version": 3
   },
   "file_extension": ".py",
   "mimetype": "text/x-python",
   "name": "python",
   "nbconvert_exporter": "python",
   "pygments_lexer": "ipython3",
   "version": "3.8.5"
  }
 },
 "nbformat": 4,
 "nbformat_minor": 5
}
