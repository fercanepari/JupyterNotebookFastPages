{
 "cells": [
  {
   "cell_type": "markdown",
   "id": "9da6458d",
   "metadata": {},
   "source": [
    "# \"Streamlit applications\"\n",
    "> \"Different web apps: financial tools, comparisons, and more\"\n",
    "\n",
    "- toc: true\n",
    "- branch: master\n",
    "- badges: true\n",
    "- comments: true\n",
    "- author: Fernando Canepari\n",
    "- categories: [fastpages, jupyter, streamlit, hosting]"
   ]
  },
  {
   "cell_type": "markdown",
   "id": "daeda48f",
   "metadata": {},
   "source": [
    "[Finance Dashboard](https://share.streamlit.io/fercanepari/jupyternotebookfastpages/StreamLit/dashboard.py)"
   ]
  },
  {
   "cell_type": "markdown",
   "id": "d408ee41",
   "metadata": {},
   "source": [
    "[Asset Recomendations](https://share.streamlit.io/fercanepari/jupyternotebookfastpages/StreamLit/assetsRecomendations.py)"
   ]
  },
  {
   "cell_type": "markdown",
   "id": "dc514a1f",
   "metadata": {},
   "source": [
    "[RSI Backtest (Spanish - Español)](https://share.streamlit.io/fercanepari/jupyternotebookfastpages/StreamLit/rsiBacktest.py)"
   ]
  },
  {
   "cell_type": "code",
   "execution_count": null,
   "id": "594838b7",
   "metadata": {},
   "outputs": [],
   "source": []
  }
 ],
 "metadata": {
  "kernelspec": {
   "display_name": "Python 3",
   "language": "python",
   "name": "python3"
  },
  "language_info": {
   "codemirror_mode": {
    "name": "ipython",
    "version": 3
   },
   "file_extension": ".py",
   "mimetype": "text/x-python",
   "name": "python",
   "nbconvert_exporter": "python",
   "pygments_lexer": "ipython3",
   "version": "3.8.5"
  }
 },
 "nbformat": 4,
 "nbformat_minor": 5
}
