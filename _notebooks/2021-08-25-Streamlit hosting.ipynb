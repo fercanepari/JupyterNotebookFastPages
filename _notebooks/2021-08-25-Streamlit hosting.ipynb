{
 "cells": [
  {
   "cell_type": "markdown",
   "id": "9da6458d",
   "metadata": {},
   "source": [
    "# \"Streamlit applications\"\n",
    "> \"Different web apps: financial tools, comparisons, and more\"\n",
    "\n",
    "- toc: true\n",
    "- branch: master\n",
    "- badges: true\n",
    "- comments: true\n",
    "- author: Fernando Canepari\n",
    "- categories: [fastpages, jupyter, streamlit, hosting]"
   ]
  },
  {
   "cell_type": "markdown",
   "id": "daeda48f",
   "metadata": {},
   "source": [
    "[Finance Dashboard](https://share.streamlit.io/fercanepari/jupyternotebookfastpages/StreamLit/dashboard.py)"
   ]
  },
  {
   "cell_type": "markdown",
   "id": "dc514a1f",
   "metadata": {},
   "source": [
    "[RSI Backtest (Spanish - Español)](https://share.streamlit.io/fercanepari/jupyternotebookfastpages/StreamLit/rsiBacktest.py)"
   ]
  },
  {
   "cell_type": "markdown",
   "id": "7a4875a0",
   "metadata": {},
   "source": [
    "[Flask API Calls/Test (Spanish - Español)](https://share.streamlit.io/fercanepari/jupyternotebookfastpages/StreamLit/apiNotes.py)"
   ]
  },
  {
   "cell_type": "markdown",
   "id": "3a9ad747",
   "metadata": {},
   "source": [
    "[Assets Recomendations](https://fercanepari-jupyternoteboo-streamlitassetsrecomendations-xbj5k2.streamlitapp.com/)"
   ]
  },
  {
   "cell_type": "code",
   "execution_count": null,
   "id": "b875bb95",
   "metadata": {},
   "outputs": [],
   "source": []
  }
 ],
 "metadata": {
  "kernelspec": {
   "display_name": "Python 3 (ipykernel)",
   "language": "python",
   "name": "python3"
  },
  "language_info": {
   "codemirror_mode": {
    "name": "ipython",
    "version": 3
   },
   "file_extension": ".py",
   "mimetype": "text/x-python",
   "name": "python",
   "nbconvert_exporter": "python",
   "pygments_lexer": "ipython3",
   "version": "3.10.7"
  }
 },
 "nbformat": 4,
 "nbformat_minor": 5
}
