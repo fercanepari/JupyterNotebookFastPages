{
 "cells": [
  {
   "cell_type": "markdown",
   "id": "3b5eaf8e",
   "metadata": {},
   "source": [
    "# \"Important articles\"\n",
    "> \"Different media articles\"\n",
    "\n",
    "- toc: true\n",
    "- branch: master\n",
    "- badges: true\n",
    "- comments: true\n",
    "- author: Fernando Canepari\n",
    "- categories: [fastpages, jupyter]"
   ]
  },
  {
   "cell_type": "markdown",
   "id": "01fed94e",
   "metadata": {},
   "source": [
    "How to create your Free Data Science Blog on Github with Fastpages from Fastai"
   ]
  },
  {
   "cell_type": "markdown",
   "id": "0013b7c8",
   "metadata": {},
   "source": [
    "youtube: https://youtu.be/watch?v=L0boq3zqazI&t=600s&ab_channel=1littlecoder"
   ]
  },
  {
   "cell_type": "code",
   "execution_count": null,
   "id": "09e03e03",
   "metadata": {},
   "outputs": [],
   "source": []
  }
 ],
 "metadata": {
  "kernelspec": {
   "display_name": "Python 3",
   "language": "python",
   "name": "python3"
  },
  "language_info": {
   "codemirror_mode": {
    "name": "ipython",
    "version": 3
   },
   "file_extension": ".py",
   "mimetype": "text/x-python",
   "name": "python",
   "nbconvert_exporter": "python",
   "pygments_lexer": "ipython3",
   "version": "3.8.5"
  }
 },
 "nbformat": 4,
 "nbformat_minor": 5
}
