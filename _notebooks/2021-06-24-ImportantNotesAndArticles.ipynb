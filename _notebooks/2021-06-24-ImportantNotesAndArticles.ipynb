{
 "cells": [
  {
   "cell_type": "markdown",
   "id": "af6f36d6",
   "metadata": {},
   "source": [
    "# \"Normalize stock data\"\n",
    "> \"Normalize data in order to be able to compare it across different stocks\"\n",
    "\n",
    "- toc: true\n",
    "- branch: master\n",
    "- badges: true\n",
    "- comments: true\n",
    "- author: Fernando Canepari\n",
    "- categories: [fastpages, jupyter]"
   ]
  },
  {
   "cell_type": "markdown",
   "id": "94418209",
   "metadata": {},
   "source": []
  },
  {
   "cell_type": "markdown",
   "id": "ce183934",
   "metadata": {},
   "source": []
  }
 ],
 "metadata": {
  "kernelspec": {
   "display_name": "Python 3",
   "language": "python",
   "name": "python3"
  },
  "language_info": {
   "codemirror_mode": {
    "name": "ipython",
    "version": 3
   },
   "file_extension": ".py",
   "mimetype": "text/x-python",
   "name": "python",
   "nbconvert_exporter": "python",
   "pygments_lexer": "ipython3",
   "version": "3.8.5"
  }
 },
 "nbformat": 4,
 "nbformat_minor": 5
}
